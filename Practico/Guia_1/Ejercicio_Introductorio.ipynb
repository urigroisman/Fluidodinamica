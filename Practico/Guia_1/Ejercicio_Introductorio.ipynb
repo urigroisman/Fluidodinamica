{
 "cells": [
  {
   "cell_type": "markdown",
   "id": "97d037c0",
   "metadata": {},
   "source": [
    "# Ejercicio Introductorio – Escurrimiento en ductos de fluidos incompresibles"
   ]
  },
  {
   "cell_type": "markdown",
   "id": "e5fa95c7",
   "metadata": {},
   "source": [
    "\n",
    "Este notebook resuelve el ejercicio introductorio de la Guía de Fluidos Incompresibles.  \n",
    "Se busca determinar la **presión en el manómetro** (luego de la bomba) en un sistema de bombeo de agua con pérdida de carga distribuida y localizada.\n",
    "\n",
    "---\n",
    "\n",
    "### Datos:\n",
    "- Caudal: \\( Q = 4 \\, \\mathrm{m^3/h} = 1.111 \\times 10^{-3} \\, \\mathrm{m^3/s} \\)\n",
    "- Diámetro cañería principal: \\( D = 0.0266 \\, \\mathrm{m} \\)\n",
    "- Diámetro de salida: \\( d = 0.015 \\, \\mathrm{m} \\)\n",
    "- Longitudes: Succión \\( L_s = 10 \\, \\mathrm{m} \\), Impulsión \\( L_i = 50 \\, \\mathrm{m} \\)\n",
    "- Desnivel entre bomba y salida: \\( \\Delta z = 2 \\, \\mathrm{m} \\)\n",
    "- Rugosidad: \\( \\varepsilon = 4.5 \\times 10^{-5} \\, \\mathrm{m} \\)\n",
    "- Agua: \\( \\rho = 1000 \\, \\mathrm{kg/m^3} \\), \\( \\mu = 8.9 \\times 10^{-4} \\, \\mathrm{Pa \\cdot s} \\)\n",
    "- Constante de pérdida del caudalímetro: \\( K = 2.25 \\)\n"
   ]
  },
  {
   "cell_type": "code",
   "execution_count": null,
   "id": "dfb27204",
   "metadata": {},
   "outputs": [],
   "source": [
    "import math\n",
    "import numpy as np\n",
    "\n",
    "# Constantes\n",
    "g = 9.81  # gravedad (m/s²)\n",
    "rho = 1000  # densidad (kg/m³)\n",
    "mu = 8.9e-4  # viscosidad dinámica (Pa·s)\n",
    "Q = 4 / 3600  # caudal en m³/s\n",
    "\n",
    "# Diámetros\n",
    "D = 0.0266  # m (1'' IPS Sch 40)\n",
    "d = 0.0150  # m (1/2'' IPS Sch 40)\n"
   ]
  },
  {
   "cell_type": "code",
   "execution_count": null,
   "id": "e2c87e13",
   "metadata": {},
   "outputs": [],
   "source": [
    "A1 = math.pi * D**2 / 4\n",
    "A2 = math.pi * d**2 / 4\n",
    "\n",
    "u1 = Q / A1\n",
    "u2 = Q / A2\n",
    "\n",
    "u1, u2"
   ]
  },
  {
   "cell_type": "code",
   "execution_count": null,
   "id": "2f79afa8",
   "metadata": {},
   "outputs": [],
   "source": [
    "Re = rho * u1 * D / mu\n",
    "eps_rel = 4.5e-5 / D\n",
    "\n",
    "# Fórmula de Swamee-Jain para c_f\n",
    "def swamee_jain(eps_rel, Re):\n",
    "    return 0.25 / (math.log10(eps_rel/3.7 + 5.74/Re**0.9))**2\n",
    "\n",
    "cf = swamee_jain(eps_rel, Re)\n",
    "cf"
   ]
  },
  {
   "cell_type": "code",
   "execution_count": null,
   "id": "bc6f719f",
   "metadata": {},
   "outputs": [],
   "source": [
    "Lf = 50\n",
    "Ls = 10\n",
    "\n",
    "hf1 = cf * (Lf/D) * (u1**2)/(2*g)\n",
    "hf2 = cf * (Ls/D) * (u1**2)/(2*g)\n",
    "\n",
    "hf_total = hf1 + hf2\n",
    "hf_total"
   ]
  },
  {
   "cell_type": "code",
   "execution_count": null,
   "id": "5eb32b13",
   "metadata": {},
   "outputs": [],
   "source": [
    "# Pérdidas locales\n",
    "K_total = 10 + 0.2 + 10 + 1.8 + 2.25 + (1 - A2/A1)**2\n",
    "h_local = K_total * u1**2 / (2 * g)\n",
    "h_local"
   ]
  },
  {
   "cell_type": "code",
   "execution_count": null,
   "id": "0c6ab002",
   "metadata": {},
   "outputs": [],
   "source": [
    "delta_z = 2  # m\n",
    "\n",
    "h_manometro = delta_z + hf_total + h_local + (u2**2 - u1**2)/(2*g)\n",
    "P_manometro_Pa = rho * g * h_manometro\n",
    "P_manometro_bar = P_manometro_Pa / 1e5\n",
    "\n",
    "P_manometro_bar"
   ]
  }
 ],
 "metadata": {},
 "nbformat": 4,
 "nbformat_minor": 5
}
