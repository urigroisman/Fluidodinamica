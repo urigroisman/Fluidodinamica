{
 "cells": [
  {
   "cell_type": "markdown",
   "id": "d9b85547",
   "metadata": {},
   "source": [
    "\n",
    "# Ejercicio 1 – Guía Nº1: Pasteurización y tiempo de residencia\n",
    "\n",
    "![Enunciado original](figura_ej_p1.png)\n"
   ]
  },
  {
   "cell_type": "markdown",
   "id": "b55bfdbd",
   "metadata": {},
   "source": [
    "\n",
    "## Paso 1 – Datos del problema\n",
    "\n",
    "Queremos calcular la longitud mínima $L$ de un tramo de cañería que asegure que el fluido permanezca al menos 20 segundos a alta temperatura.\n",
    "\n",
    "**Datos conocidos:**\n",
    "\n",
    "- Diámetro nominal: $D_N = 1.5''$ IPS Sch 40 → acero comercial  \n",
    "- Diámetro interior: $D = 0.0409 \\ \\mathrm{m}$  \n",
    "- Flujo másico: $\\dot{m} = 5000 \\ \\mathrm{kg/h} = 1.3889 \\ \\mathrm{kg/s}$  \n",
    "- Densidad: $\\rho = 1250 \\ \\mathrm{kg/m^3}$  \n",
    "- Viscosidad: $\\mu = 0.324 \\ \\mathrm{Pa \\cdot s}$ (no se usa en este cálculo)  \n",
    "- Tiempo mínimo de residencia: $t_{\\min} = 20 \\ \\mathrm{s}$\n"
   ]
  },
  {
   "cell_type": "markdown",
   "id": "55ba4267",
   "metadata": {},
   "source": [
    "\n",
    "## Paso 2 – Área de la sección\n",
    "\n",
    "La sección transversal del tubo es circular, y se calcula como:\n",
    "\n",
    "$$\n",
    "A = \\frac{\\pi D^2}{4}\n",
    "$$\n"
   ]
  },
  {
   "cell_type": "code",
   "execution_count": 19,
   "id": "1edecfca",
   "metadata": {},
   "outputs": [
    {
     "name": "stdout",
     "output_type": "stream",
     "text": [
      "A = 0.0013138219017128853\n"
     ]
    }
   ],
   "source": [
    "\n",
    "D = 0.0409;\n",
    "A = π * D^2 / 4;\n",
    "@show A;\n"
   ]
  },
  {
   "cell_type": "markdown",
   "id": "046713cd",
   "metadata": {},
   "source": [
    "\n",
    "## Paso 3 – Caudal volumétrico\n",
    "\n",
    "A partir del flujo másico y la densidad, el caudal volumétrico es:\n",
    "\n",
    "$$\n",
    "Q = \\frac{\\dot{m}}{\\rho}\n",
    "$$\n"
   ]
  },
  {
   "cell_type": "code",
   "execution_count": 20,
   "id": "3dbc81e0",
   "metadata": {},
   "outputs": [
    {
     "name": "stdout",
     "output_type": "stream",
     "text": [
      "ṁ = 1.3888888888888888\n",
      "Q = 0.0011111111111111111\n"
     ]
    }
   ],
   "source": [
    "\n",
    "ρ = 1250.0;\n",
    "ṁ = 5000 / 3600;\n",
    "Q = ṁ / ρ;\n",
    "@show ṁ Q;\n"
   ]
  },
  {
   "cell_type": "markdown",
   "id": "9703c8f7",
   "metadata": {},
   "source": [
    "\n",
    "## Paso 4 – Velocidad media\n",
    "\n",
    "La velocidad media del fluido en la cañería es:\n",
    "\n",
    "$$\n",
    "u = \\frac{Q}{A}\n",
    "$$\n"
   ]
  },
  {
   "cell_type": "code",
   "execution_count": 21,
   "id": "d2aba799",
   "metadata": {},
   "outputs": [
    {
     "name": "stdout",
     "output_type": "stream",
     "text": [
      "u = 0.8457090794897759\n"
     ]
    }
   ],
   "source": [
    "\n",
    "u = Q / A;\n",
    "@show u;\n"
   ]
  },
  {
   "cell_type": "markdown",
   "id": "8a771ec4",
   "metadata": {},
   "source": [
    "\n",
    "## Paso 5 – Longitud recorrida por una partícula individual\n",
    "\n",
    "Si una partícula avanza a velocidad $u$, recorre:\n",
    "\n",
    "$$\n",
    "L_{\\mathrm{parcial}} = u \\cdot t_{\\mathrm{min}}\n",
    "$$\n"
   ]
  },
  {
   "cell_type": "code",
   "execution_count": 22,
   "id": "b14a0de5",
   "metadata": {},
   "outputs": [
    {
     "name": "stdout",
     "output_type": "stream",
     "text": [
      "L_parcial = 16.91418158979552\n"
     ]
    }
   ],
   "source": [
    "\n",
    "t_min = 20.0;\n",
    "L_parcial = u * t_min;\n",
    "@show L_parcial;\n"
   ]
  },
  {
   "cell_type": "markdown",
   "id": "f64957a7",
   "metadata": {},
   "source": [
    "\n",
    "## Paso 6 – Justificación: volumen contenido en flujo estacionario\n",
    "\n",
    "Para que toda la masa de fluido que entra en 20 s esté contenida dentro del tubo, aplicamos:\n",
    "\n",
    "$$\n",
    "L = \\frac{Q \\cdot t_{\\mathrm{min}}}{A}\n",
    "$$\n",
    "\n",
    "Esta es la condición realista de pasteurización.\n"
   ]
  },
  {
   "cell_type": "code",
   "execution_count": 23,
   "id": "8408f5fa",
   "metadata": {},
   "outputs": [
    {
     "name": "stdout",
     "output_type": "stream",
     "text": [
      "L_min = 33.82836317959104\n"
     ]
    }
   ],
   "source": [
    "\n",
    "L_min = 2Q * t_min / A;\n",
    "@show L_min;\n"
   ]
  },
  {
   "cell_type": "markdown",
   "id": "c948457a",
   "metadata": {},
   "source": [
    "\n",
    "## Resultado final\n",
    "\n",
    "La longitud mínima necesaria para contener todo el volumen que entra en 20 s es:\n",
    "\n",
    "$$\n",
    "\\boxed{L_{\\mathrm{min}} = 34 \\ \\mathrm{m}}\n",
    "$$\n"
   ]
  },
  {
   "cell_type": "code",
   "execution_count": 24,
   "id": "0cd7ddb8",
   "metadata": {},
   "outputs": [
    {
     "name": "stdout",
     "output_type": "stream",
     "text": [
      "round(L_min, digits = 0) = 34.0\n"
     ]
    }
   ],
   "source": [
    "\n",
    "@show round(L_min, digits=0);\n"
   ]
  }
 ],
 "metadata": {
  "kernelspec": {
   "display_name": "Julia 1.11.6",
   "language": "julia",
   "name": "julia-1.11"
  },
  "language_info": {
   "file_extension": ".jl",
   "mimetype": "application/julia",
   "name": "julia",
   "version": "1.11.6"
  }
 },
 "nbformat": 4,
 "nbformat_minor": 5
}
