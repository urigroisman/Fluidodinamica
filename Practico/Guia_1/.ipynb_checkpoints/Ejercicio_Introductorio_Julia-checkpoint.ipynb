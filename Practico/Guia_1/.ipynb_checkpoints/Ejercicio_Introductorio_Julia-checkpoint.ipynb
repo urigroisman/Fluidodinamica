{
 "cells": [
  {
   "cell_type": "markdown",
   "id": "fc15cb3a",
   "metadata": {},
   "source": [
    "# Ejercicio Introductorio – Escurrimiento en ductos de fluidos incompresibles"
   ]
  },
  {
   "cell_type": "markdown",
   "id": "c2b18c15",
   "metadata": {},
   "source": [
    "\n",
    "Este notebook resuelve el ejercicio introductorio de la Guía de Fluidos Incompresibles.  \n",
    "Se busca determinar la **presión en el manómetro** (luego de la bomba) en un sistema de bombeo de agua con pérdidas por fricción y accesorios.\n",
    "\n",
    "### Enunciado:\n",
    "> En un aserradero, las pilas de troncos se mantienen húmedas mediante el sistema esquematizado en la figura. El agua es bombeada desde una laguna y en el extremo final se produce la descarga mediante un estrechamiento brusco para que el agua impacte contra una placa que produce la aspersión sobre los troncos. La altura a la que se produce la descarga es de 2 metros con respecto al nivel de la bomba.  \n",
    ">\n",
    "> La tubería es de acero comercial ($\\varepsilon = 4.5 \\times 10^-5$ m) de diámetro nominal 1'' IPS Sch 40.  \n",
    ">\n",
    "> Se cuenta con los siguientes accesorios y medidores:\n",
    "> - Válvula de retención de pie con filtro de obturador ascendente\n",
    "> - Manómetro ubicado luego de la bomba\n",
    "> - Válvula esclusa\n",
    "> - Válvula globo\n",
    "> - Caudalímetro ($K=2.25$)\n",
    "> - 2 codos estándar de 90°\n",
    "> - Estrechamiento brusco con salida de ½'' IPS Sch 40\n",
    "\n",
    "El caudalímetro indica un caudal de $Q = 4$ m³/h. Se solicita determinar la presión manométrica en bar, indicada por el manómetro ubicado luego de la bomba.\n",
    "\n",
    "![Esquema del sistema](figura_introductorio.png)\n"
   ]
  },
  {
   "cell_type": "markdown",
   "id": "b7361533",
   "metadata": {},
   "source": [
    "### Paso 1: Definimos constantes físicas y datos del problema"
   ]
  },
  {
   "cell_type": "code",
   "execution_count": 11,
   "id": "453de4e2",
   "metadata": {},
   "outputs": [
    {
     "name": "stdout",
     "output_type": "stream",
     "text": [
      "g = 9.81\n",
      "ρ = 1000.0\n",
      "μ = 0.00089\n",
      "Q = 0.0011111111111111111\n",
      "D = 0.0266\n",
      "d = 0.015\n",
      "ε = 4.5e-5\n"
     ]
    }
   ],
   "source": [
    "\n",
    "# Constantes físicas\n",
    "g = 9.81               # m/s²\n",
    "ρ = 1000.0             # kg/m³\n",
    "μ = 8.9e-4             # Pa·s\n",
    "Q = 4 / 3600           # m³/s\n",
    "\n",
    "# Diámetros\n",
    "D = 0.0266             # m (1'' IPS Sch 40)\n",
    "d = 0.0150             # m (1/2'' IPS Sch 40)\n",
    "ε = 4.5e-5             # m\n",
    "@show g ρ μ Q D d ε;\n"
   ]
  },
  {
   "cell_type": "markdown",
   "id": "a3b1dc2f",
   "metadata": {},
   "source": [
    "### Paso 2: Calculamos áreas y velocidades medias en cada tramo"
   ]
  },
  {
   "cell_type": "code",
   "execution_count": 9,
   "id": "c1d48d17",
   "metadata": {},
   "outputs": [
    {
     "name": "stdout",
     "output_type": "stream",
     "text": [
      "A1 = 0.0005557163244934985\n",
      "A2 = 0.00017671458676442585\n",
      "u1 = 1.9994213992612526\n",
      "u2 = 6.2876026900501865\n"
     ]
    }
   ],
   "source": [
    "\n",
    "A1 = π * D^2 / 4\n",
    "A2 = π * d^2 / 4\n",
    "u1 = Q / A1\n",
    "u2 = Q / A2\n",
    "@show A1 A2 u1 u2;\n"
   ]
  },
  {
   "cell_type": "markdown",
   "id": "97d42e48",
   "metadata": {},
   "source": [
    "### Paso 3: Determinamos el número de Reynolds y el coeficiente de fricción $c_f$"
   ]
  },
  {
   "cell_type": "code",
   "execution_count": 13,
   "id": "155b8584",
   "metadata": {},
   "outputs": [
    {
     "name": "stdout",
     "output_type": "stream",
     "text": [
      "Re = 59757.98788803294\n",
      "ε_rel = 0.0016917293233082709\n",
      "cf = 0.02556042872872006\n"
     ]
    }
   ],
   "source": [
    "\n",
    "Re = ρ * u1 * D / μ\n",
    "ε_rel = ε / D\n",
    "cf = 0.25 / (log10(ε_rel/3.7 + 5.74 / Re^0.9))^2\n",
    "@show Re ε_rel cf;\n"
   ]
  },
  {
   "cell_type": "markdown",
   "id": "ef05e2b0",
   "metadata": {},
   "source": [
    "### Paso 4: Calculamos las pérdidas de carga por fricción en los tramos de succión e impulsión"
   ]
  },
  {
   "cell_type": "code",
   "execution_count": null,
   "id": "701a1e8c",
   "metadata": {},
   "outputs": [],
   "source": [
    "\n",
    "Li = 50.0  # impulsión\n",
    "Ls = 10.0  # succión\n",
    "\n",
    "hf1 = cf * (Li/D) * (u1^2)/(2g)\n",
    "hf2 = cf * (Ls/D) * (u1^2)/(2g)\n",
    "hf_total = hf1 + hf2\n",
    "@show hf1 hf2 hf_total\n"
   ]
  },
  {
   "cell_type": "markdown",
   "id": "cf46acaf",
   "metadata": {},
   "source": [
    "### Paso 5: Calculamos la pérdida de carga localizada total"
   ]
  },
  {
   "cell_type": "code",
   "execution_count": 14,
   "id": "d8729906",
   "metadata": {},
   "outputs": [
    {
     "name": "stdout",
     "output_type": "stream",
     "text": [
      "K_total = 24.715131865260226\n",
      "h_local = 5.035847857335451\n"
     ]
    }
   ],
   "source": [
    "\n",
    "K_total = 10 + 0.2 + 10 + 1.8 + 2.25 + (1 - A2/A1)^2\n",
    "h_local = K_total * u1^2 / (2g)\n",
    "@show K_total h_local;\n"
   ]
  },
  {
   "cell_type": "markdown",
   "id": "a098ac34",
   "metadata": {},
   "source": [
    "### Paso 6: Aplicamos Bernoulli y obtenemos la presión manométrica en la bomba"
   ]
  },
  {
   "cell_type": "code",
   "execution_count": 15,
   "id": "4c3aa945",
   "metadata": {},
   "outputs": [
    {
     "name": "stdout",
     "output_type": "stream",
     "text": [
      "h_manometro = 20.594627337503205\n",
      "P_manometro_Pa = 202033.29418090644\n",
      "P_manometro_bar = 2.0203329418090643\n"
     ]
    }
   ],
   "source": [
    "\n",
    "Δz = 2.0\n",
    "h_manometro = Δz + hf_total + h_local + (u2^2 - u1^2)/(2g)\n",
    "P_manometro_Pa = ρ * g * h_manometro\n",
    "P_manometro_bar = P_manometro_Pa / 1e5\n",
    "@show h_manometro P_manometro_Pa P_manometro_bar;\n"
   ]
  }
 ],
 "metadata": {
  "kernelspec": {
   "display_name": "Julia 1.10.10",
   "language": "julia",
   "name": "julia-1.10"
  },
  "language_info": {
   "file_extension": ".jl",
   "mimetype": "application/julia",
   "name": "julia",
   "version": "1.10.10"
  }
 },
 "nbformat": 4,
 "nbformat_minor": 5
}
