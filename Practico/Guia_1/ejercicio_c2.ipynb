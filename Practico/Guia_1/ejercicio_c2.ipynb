{
 "cells": [
  {
   "cell_type": "markdown",
   "id": "f977fffa",
   "metadata": {},
   "source": [
    "# Ejercicio c.2 – Incremento de presión en ducto de ventilación forzada"
   ]
  },
  {
   "cell_type": "code",
   "execution_count": 57,
   "id": "f9b87ced",
   "metadata": {},
   "outputs": [
    {
     "name": "stderr",
     "output_type": "stream",
     "text": [
      "\u001b[32m\u001b[1m   Resolving\u001b[22m\u001b[39m package versions...\n",
      "\u001b[32m\u001b[1m  No Changes\u001b[22m\u001b[39m to `~/.julia/environments/v1.11/Project.toml`\n",
      "\u001b[32m\u001b[1m  No Changes\u001b[22m\u001b[39m to `~/.julia/environments/v1.11/Manifest.toml`\n",
      "\u001b[32m\u001b[1m   Resolving\u001b[22m\u001b[39m package versions...\n",
      "\u001b[32m\u001b[1m  No Changes\u001b[22m\u001b[39m to `~/.julia/environments/v1.11/Project.toml`\n",
      "\u001b[32m\u001b[1m  No Changes\u001b[22m\u001b[39m to `~/.julia/environments/v1.11/Manifest.toml`\n"
     ]
    }
   ],
   "source": [
    "using Pkg\n",
    "Pkg.add(\"Unitful\")\n",
    "Pkg.add(\"Printf\")"
   ]
  },
  {
   "cell_type": "markdown",
   "id": "43644358",
   "metadata": {},
   "source": [
    "\n",
    "Este notebook resuelve el ejercicio **c.2**, que consiste en determinar el incremento de presión necesario entre la cabina de pintura y la descarga de un sistema de ventilación forzada, para asegurar un caudal de aire de 1500 m³/h en condiciones estándar (15°C y 1 atmósfera). La resolución se realiza con todos los pasos justificados, usando unidades en el SI en el lenguaje de programación científica Julia a través del paquete `Unitful.jl`.\n"
   ]
  },
  {
   "cell_type": "markdown",
   "id": "9afb353f",
   "metadata": {},
   "source": [
    "## Interpretación física del enunciado\n",
    "\n",
    "El ejercicio plantea un sistema de ventilación forzada que extrae aire desde una cabina de pintura hacia el exterior, a través de un conducto horizontal. El objetivo es determinar el **incremento de presión necesario** entre la cabina y la descarga del ventilador para que el **caudal volumétrico estándar** del aire sea de:\n",
    "\n",
    "$$\n",
    "Q_{\\text{est}} = 1500\\,\\mathrm{m}^3/\\mathrm{h}\n",
    "$$\n",
    "\n",
    "correspondiente a condiciones estándar de temperatura y presión:\n",
    "\n",
    "$$\n",
    "T_{\\text{est}} = 15^\\circ\\mathrm{C} = 288.15\\,\\mathrm{K}, \\quad P_{\\text{est}} = 1\\,\\mathrm{atm} = 101325\\,\\mathrm{Pa}\n",
    "$$\n",
    "\n",
    "La interpretación de cada uno de los puntos aclaratorios del enunciado es la siguiente:\n",
    "\n",
    "---\n",
    "\n",
    "### 🔹 1. Presión y temperatura en la cabina\n",
    "\n",
    "> *\"Considere que la presión atmosférica en la cabina es 1020 hPa al igual que la presión exterior; la temperatura de la cabina es 25°C y en el exterior es 15°C.\"*\n",
    "\n",
    "- Se establece que tanto la cabina como el exterior están a **presión atmosférica local**, $P_{\\text{cab}} = P_{\\text{ext}} = 102000\\,\\mathrm{Pa}$, aunque a **distinta temperatura**.\n",
    "- Esta presión es la que se usará para calcular la **densidad real del aire en la cabina** mediante la ley de los gases ideales:\n",
    "\n",
    "$$\n",
    "\\rho_{\\text{cab}} = \\frac{P_{\\text{cab}}}{R T_{\\text{cab}}}\n",
    "$$\n",
    "\n",
    "---\n",
    "\n",
    "### 🔹 2. Despreciar variación de densidad en el ducto\n",
    "\n",
    "> *\"Puede despreciar la variación de densidad del aire en el ducto.\"*\n",
    "\n",
    "- Aunque el aire es un gas compresible, se justifica suponer que **\\(\\rho = \\text{cte}\\)** en el ducto, ya que las variaciones de presión y temperatura en el tramo considerado son pequeñas.\n",
    "- Esto permite aplicar el modelo de **flujo incompresible** y usar directamente:\n",
    "  - ecuación de continuidad,\n",
    "  - fórmula de Darcy-Weisbach para pérdida de carga distribuida,\n",
    "  - coeficientes de pérdida localizada.\n",
    "\n",
    "---\n",
    "\n",
    "### 🔹 3. Pérdida localizada en la entrada\n",
    "\n",
    "> *\"La constante de pérdida de carga de la entrada puede considerarse igual a 0.5.\"*\n",
    "\n",
    "- Se indica que existe una **pérdida localizada** al ingresar el aire al ducto desde la cabina.\n",
    "- Se modela mediante el coeficiente $K_e = 0.5$, lo cual da lugar a una pérdida de presión:\n",
    "\n",
    "$$\n",
    "\\Delta p_{\\text{entrada}} = \\frac{1}{2} \\rho v^2 \\cdot K_e\n",
    "$$\n",
    "\n",
    "- Este valor es típico para entradas sin perfilado, bordes rectos o ingreso brusco.\n",
    "\n",
    "---\n",
    "\n",
    "### 🔹 4. Caudal estándar y ley de gases ideales\n",
    "\n",
    "> *\"El caudal en condiciones estándar es el caudal que tendría el flujo másico real si tuviera esta presión y temperatura (es aplicable la Ley de Gases Ideales).\"*\n",
    "\n",
    "- El caudal que se da en el enunciado no es el **caudal real** que circula por el ducto, sino el volumen que ocuparía el flujo másico si estuviera en condiciones estándar.\n",
    "- Usando la ley de los gases ideales, y asumiendo que la masa es constante, se tiene:\n",
    "\n",
    "\n",
    "\n",
    "\n",
    "$$\n",
    "\\frac{P_{\\text{est}} V_{\\text{est}}}{T_{\\text{est}}} = \\frac{P_{\\text{cab}} V_{\\text{real}}}{T_{\\text{cab}}}\n",
    "$$\n",
    "\n",
    "- De aquí se deduce el **caudal real** a condiciones de la cabina:\n",
    "\n",
    "$$\n",
    "Q_{\\text{real}} = Q_{\\text{est}} \\cdot \\frac{P_{\\text{est}}}{P_{\\text{cab}}} \\cdot \\frac{T_{\\text{cab}}}{T_{\\text{est}}}\n",
    "$$\n",
    "\n",
    "Este caudal volumétrico real es el que se usará para calcular la **velocidad media** del aire en el ducto y, con ello, todas las pérdidas de carga.\n",
    "\n",
    "---\n",
    "\n",
    "### ✅ Conclusión operativa\n",
    "\n",
    "- La presión y temperatura reales en la cabina se usan para obtener la densidad del aire.\n",
    "- Se convierte el caudal estándar a caudal real mediante la ley de gases ideales.\n",
    "- Se aplica la teoría de pérdida de carga para flujo incompresible, sumando pérdidas localizadas y distribuidas.\n",
    "- El resultado final será el **incremento de presión mínimo necesario** que el ventilador debe generar para mantener el flujo especificado."
   ]
  },
  {
   "cell_type": "markdown",
   "id": "05ab43ba",
   "metadata": {},
   "source": []
  },
  {
   "cell_type": "markdown",
   "id": "e5bd4b77",
   "metadata": {},
   "source": []
  },
  {
   "cell_type": "markdown",
   "id": "840a9b21",
   "metadata": {},
   "source": []
  },
  {
   "cell_type": "markdown",
   "id": "9e21ddcf",
   "metadata": {},
   "source": [
    "## Paso 1: Datos con unidades en el SI"
   ]
  },
  {
   "cell_type": "code",
   "execution_count": null,
   "id": "a579e8c5",
   "metadata": {},
   "outputs": [],
   "source": [
    "using Unitful, Printf"
   ]
  },
  {
   "cell_type": "code",
   "execution_count": 69,
   "id": "e45f0343",
   "metadata": {},
   "outputs": [
    {
     "name": "stdout",
     "output_type": "stream",
     "text": [
      "A = 0.06 m²\n",
      "L = 15 m\n",
      "ϵ = 0.00015 m\n",
      "Q_est = 0.4166666666666667 m³ s⁻¹\n",
      "P_est = 101325 Pa\n",
      "T_est = 288.15 K\n",
      "P_cab = 102000 Pa\n",
      "T_cab = 298.15 K\n",
      "Kₑ = 0.5\n",
      "R = 287.0 J kg⁻¹ K⁻¹\n",
      "R = 287.000 J kg⁻¹ K⁻¹\n",
      "Q_est = 4.167e-01 m³ s⁻¹\n"
     ]
    }
   ],
   "source": [
    "\n",
    "# Dimensiones del ducto\n",
    "ancho = 0.30u\"m\"\n",
    "alto = 0.20u\"m\"\n",
    "A = ancho * alto  # área de sección transversal\n",
    "@show A \n",
    "\n",
    "# Longitud y rugosidad\n",
    "L = 15u\"m\"\n",
    "ϵ = 0.15u\"mm\" |> u\"m\"  # conversión explícita\n",
    "@show L\n",
    "@show ϵ\n",
    "\n",
    "# Caudal estándar\n",
    "Q_est_m3h = 1500.0u\"m^3/hr\"\n",
    "Q_est = uconvert(u\"m^3/s\", Q_est_m3h)\n",
    "@show Q_est\n",
    "\n",
    "# Presiones y temperaturas\n",
    "P_est = 101325u\"Pa\"\n",
    "T_est = 288.15u\"K\"\n",
    "@show P_est\n",
    "@show T_est\n",
    "\n",
    "P_cab = 1020u\"hPa\" |> u\"Pa\"\n",
    "T_cab = 298.15u\"K\"\n",
    "@show P_cab\n",
    "@show T_cab\n",
    "\n",
    "# Pérdida localizada de entrada\n",
    "Kₑ = 0.5\n",
    "@show Kₑ\n",
    "\n",
    "# Constante del gas para aire seco\n",
    "R = 287.0u\"J/(kg*K)\"\n",
    "@show R\n",
    "#=\n",
    "\n",
    "Para más adelante jugar con formaos de salida\n",
    "\n",
    "println(typeof(R))\n",
    "show ustrip(R)\n",
    "println(typeof(ustrip(R)))\n",
    "@show unit(R)\n",
    "println(typeof(unit(R)))\n",
    "=#\n",
    "\n",
    "@printf(\"R = %.3f %s\\n\", float(ustrip(R)), string(unit(R)))\n",
    "# @printf\n",
    "@printf(\"Q_est = %.3e %s\\n\", float(ustrip(Q_est)), string(unit(Q_est)))"
   ]
  },
  {
   "cell_type": "markdown",
   "id": "f669de94",
   "metadata": {},
   "source": [
    "## 🔧 Paso 2: Conversión del caudal a condiciones reales"
   ]
  },
  {
   "cell_type": "code",
   "execution_count": 60,
   "id": "dcd24db7",
   "metadata": {},
   "outputs": [
    {
     "name": "stdout",
     "output_type": "stream",
     "text": [
      "Q_real = 0.42827368345394734 m³ s⁻¹\n"
     ]
    }
   ],
   "source": [
    "\n",
    "Q_real = Q_est * (P_est / P_cab) * (T_cab / T_est)\n",
    "@show Q_real;\n"
   ]
  },
  {
   "cell_type": "markdown",
   "id": "9910bca8",
   "metadata": {},
   "source": [
    "## 🔁 Paso 3: Cálculo de la velocidad media en el ducto"
   ]
  },
  {
   "cell_type": "code",
   "execution_count": 61,
   "id": "fa304f9e",
   "metadata": {},
   "outputs": [
    {
     "name": "stdout",
     "output_type": "stream",
     "text": [
      "v = 7.1378947242324555 m s⁻¹\n"
     ]
    }
   ],
   "source": [
    "\n",
    "v = Q_real / A\n",
    "@show v;\n"
   ]
  },
  {
   "cell_type": "markdown",
   "id": "38bc9ea6",
   "metadata": {},
   "source": [
    "## 📏 Paso 4: Cálculo del diámetro hidráulico"
   ]
  },
  {
   "cell_type": "code",
   "execution_count": 62,
   "id": "dce22e0e",
   "metadata": {},
   "outputs": [
    {
     "name": "stdout",
     "output_type": "stream",
     "text": [
      "D_h = 0.24 m\n"
     ]
    }
   ],
   "source": [
    "\n",
    "D_h = 2 * ancho * alto / (ancho + alto)\n",
    "@show D_h;\n"
   ]
  },
  {
   "cell_type": "markdown",
   "id": "f4b0369e",
   "metadata": {},
   "source": [
    "## 💨 Paso 5: Cálculo de la densidad del aire"
   ]
  },
  {
   "cell_type": "code",
   "execution_count": 63,
   "id": "5bf7056f",
   "metadata": {},
   "outputs": [
    {
     "name": "stdout",
     "output_type": "stream",
     "text": [
      "ρ = 1.1920197781791433 kg Pa J⁻¹\n"
     ]
    }
   ],
   "source": [
    "\n",
    "ρ = P_cab / (R * T_cab)\n",
    "@show ρ;\n"
   ]
  },
  {
   "cell_type": "markdown",
   "id": "05ad7355",
   "metadata": {},
   "source": [
    "## 🔄 Paso 6: Cálculo del número de Reynolds"
   ]
  },
  {
   "cell_type": "code",
   "execution_count": 64,
   "id": "7805daaa",
   "metadata": {},
   "outputs": [
    {
     "name": "stdout",
     "output_type": "stream",
     "text": [
      "Re = 110380.69214070031 kg m² J⁻¹ s⁻²\n"
     ]
    }
   ],
   "source": [
    "\n",
    "μ = 1.85e-5u\"Pa*s\"  # viscosidad dinámica a 25°C\n",
    "Re = ρ * v * D_h / μ\n",
    "@show Re;\n"
   ]
  },
  {
   "cell_type": "markdown",
   "id": "9b83c812",
   "metadata": {},
   "source": [
    "## 🌀 Paso 7: Estimación del factor de fricción con Swamee-Jain"
   ]
  },
  {
   "cell_type": "code",
   "execution_count": 65,
   "id": "ef8c65e5",
   "metadata": {},
   "outputs": [
    {
     "name": "stdout",
     "output_type": "stream",
     "text": [
      "f = 0.02070332475479568\n"
     ]
    }
   ],
   "source": [
    "\n",
    "ϵ_D = ϵ / D_h\n",
    "f = 0.25 / (log10(ϵ_D / 3.7 + 5.74 / Re^0.9))^2\n",
    "@show f;\n"
   ]
  },
  {
   "cell_type": "markdown",
   "id": "799902cc",
   "metadata": {},
   "source": [
    "## 📉 Paso 8: Cálculo de la pérdida de carga total"
   ]
  },
  {
   "cell_type": "code",
   "execution_count": 66,
   "id": "4858916b",
   "metadata": {},
   "outputs": [
    {
     "name": "stdout",
     "output_type": "stream",
     "text": [
      "Δp = 54.47609447494709 kg m² Pa J⁻¹ s⁻²\n"
     ]
    }
   ],
   "source": [
    "\n",
    "Δp = 0.5 * ρ * v^2 * (f * L / D_h + Kₑ)\n",
    "@show Δp;\n"
   ]
  },
  {
   "cell_type": "markdown",
   "id": "b588323e",
   "metadata": {},
   "source": [
    "## ✅ Resultado final"
   ]
  },
  {
   "cell_type": "code",
   "execution_count": 67,
   "id": "62aa768f",
   "metadata": {},
   "outputs": [
    {
     "name": "stdout",
     "output_type": "stream",
     "text": [
      "\n",
      "El incremento de presión necesario entre cabina y salida del ducto es:\n",
      "Δp = 54.47609447494709 kg m² Pa J⁻¹ s⁻²\n"
     ]
    }
   ],
   "source": [
    "\n",
    "println(\"\\nEl incremento de presión necesario entre cabina y salida del ducto es:\")\n",
    "@show Δp;\n"
   ]
  }
 ],
 "metadata": {
  "kernelspec": {
   "display_name": "Julia 1.11.6",
   "language": "julia",
   "name": "julia-1.11"
  },
  "language_info": {
   "file_extension": ".jl",
   "mimetype": "application/julia",
   "name": "julia",
   "version": "1.11.6"
  }
 },
 "nbformat": 4,
 "nbformat_minor": 5
}
