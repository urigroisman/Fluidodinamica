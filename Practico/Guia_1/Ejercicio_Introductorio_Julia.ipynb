{
 "cells": [
  {
   "cell_type": "markdown",
   "id": "abac71e9",
   "metadata": {},
   "source": [
    "# Ejercicio Introductorio – Escurrimiento en ductos de fluidos incompresibles"
   ]
  },
  {
   "cell_type": "markdown",
   "id": "c196b555",
   "metadata": {},
   "source": [
    "\n",
    "Este notebook resuelve el **Ejercicio Introductorio** de la Guía de Fluidos Incompresibles.  \n",
    "Se busca determinar la **presión manométrica** indicada por el manómetro inmediatamente aguas arriba de la bomba.\n",
    "\n",
    "### Enunciado:\n",
    "> En un aserradero, las pilas de troncos se mantienen húmedas mediante el sistema esquematizado en la figura. El agua es bombeada desde una laguna y en el extremo final se produce la descarga mediante un estrechamiento brusco. La descarga se produce a 2 m por encima de la bomba.  \n",
    "> La cañería es de acero comercial (rugosidad absoluta $\\varepsilon = 4.5 \\times 10^-5$ m), con diámetro nominal 1'' IPS Sch 40, y cuenta con:\n",
    "> - válvula de retención con filtro de pie\n",
    "> - válvula esclusa\n",
    "> - válvula globo\n",
    "> - caudalímetro ($K = 2.25$)\n",
    "> - dos codos estándar de 90°\n",
    "> - estrechamiento brusco a una tubería de ½'' IPS Sch 40\n",
    "\n",
    "El caudalímetro indica un caudal de $Q = 4$ m³/h. Se solicita determinar la presión indicada por el manómetro ubicado luego de la bomba, en unidades de bar.\n",
    "\n",
    "![Esquema del sistema](figura_introductorio.png)\n"
   ]
  },
  {
   "cell_type": "markdown",
   "id": "11cbcbf6",
   "metadata": {},
   "source": [
    "\n",
    "### Paso 1 – Definición de datos físicos y propiedades del sistema\n",
    "Usamos el Sistema Internacional (SI), con agua como fluido incompresible y newtoniano:\n",
    "\n",
    "- $\\rho = 1000$ kg/m³, $\\mu = 8.9 \\times 10^{-4}$ Pa·s, $g = 9.81$ m/s²\n",
    "- $Q = 4$ m³/h $= \\frac{4}{3600}$ m³/s\n",
    "- Rugosidad: $\\varepsilon = 4.5 \\times 10^{-5}$ m\n"
   ]
  },
  {
   "cell_type": "code",
   "execution_count": 1,
   "id": "1bd63c19",
   "metadata": {},
   "outputs": [
    {
     "name": "stdout",
     "output_type": "stream",
     "text": [
      "g = 9.81\n",
      "ρ = 1000.0\n",
      "μ = 0.00089\n",
      "Q = 0.0011111111111111111\n",
      "ε = 4.5e-5\n"
     ]
    }
   ],
   "source": [
    "\n",
    "g = 9.81;\n",
    "ρ = 1000.0;\n",
    "μ = 8.9e-4;\n",
    "Q = 4 / 3600;\n",
    "ε = 4.5e-5;\n",
    "@show g ρ μ Q ε;\n"
   ]
  },
  {
   "cell_type": "markdown",
   "id": "6a680b51",
   "metadata": {},
   "source": [
    "\n",
    "### Paso 2 – Diámetros y velocidades\n",
    "Usamos valores estándar:\n",
    "\n",
    "- $D = 0.0266$ m (1''), $d = 0.0150$ m (½'')\n",
    "- $A = \\frac{\\pi D^2}{4}$, $u = \\frac{Q}{A}$\n"
   ]
  },
  {
   "cell_type": "code",
   "execution_count": 2,
   "id": "af90a3db",
   "metadata": {},
   "outputs": [
    {
     "name": "stdout",
     "output_type": "stream",
     "text": [
      "A1 = 0.0005557163244934985\n",
      "A2 = 0.00017671458676442585\n",
      "u1 = 1.9994213992612526\n",
      "u2 = 6.2876026900501865\n"
     ]
    }
   ],
   "source": [
    "\n",
    "D = 0.0266;\n",
    "d = 0.0150;\n",
    "\n",
    "A1 = π * D^2 / 4;\n",
    "A2 = π * d^2 / 4;\n",
    "\n",
    "u1 = Q / A1;\n",
    "u2 = Q / A2;\n",
    "@show A1 A2 u1 u2;\n"
   ]
  },
  {
   "cell_type": "markdown",
   "id": "cd0b76a1-0f7a-4d7a-a5aa-84404e420f68",
   "metadata": {},
   "source": [
    "\n",
    "### Paso 3 – Número de Reynolds y coeficiente de fricción\n",
    "Para $\\mathrm{Re} = \\frac{\\rho u D}{\\mu}$ y régimen turbulento:\n",
    "\n",
    "$$\n",
    "f = \\frac{0.25}{\\left[ \\log_{10}\\left(\\frac{\\varepsilon/D}{3.7} + \\frac{5.74}{\\mathrm{Re}^{0.9}} \\right) \\right]^2}\n",
    "$$\n"
   ]
  },
  {
   "cell_type": "code",
   "execution_count": 4,
   "id": "d61d9807",
   "metadata": {},
   "outputs": [
    {
     "name": "stdout",
     "output_type": "stream",
     "text": [
      "Re = 59757.98788803294\n",
      "ε_rel = 0.0016917293233082709\n",
      "f = 0.02556042872872006\n"
     ]
    }
   ],
   "source": [
    "\n",
    "Re = ρ * u1 * D / μ;\n",
    "ε_rel = ε / D;\n",
    "f = 0.25 / (log10(ε_rel/3.7 + 5.74 / Re^0.9))^2;\n",
    "@show Re ε_rel f;\n"
   ]
  },
  {
   "cell_type": "markdown",
   "id": "ae1bfb28",
   "metadata": {},
   "source": [
    "\n",
    "### Paso 4 – Pérdidas por fricción (Darcy-Weisbach)\n",
    "$$\n",
    "\\Delta h_f = f \\cdot \\frac{L}{D} \\cdot \\frac{u^2}{2g}\n",
    "$$\n"
   ]
  },
  {
   "cell_type": "code",
   "execution_count": 8,
   "id": "f49649bd",
   "metadata": {},
   "outputs": [
    {
     "name": "stdout",
     "output_type": "stream",
     "text": [
      "L_impulsion = 50.0\n",
      "hf_impulsion = 9.789627580053892\n",
      "L_succion = 10.0\n",
      "hf_succion = 1.9579255160107785\n",
      "L_total = 60.0\n",
      "hf_total = 11.74755309606467\n"
     ]
    }
   ],
   "source": [
    "\n",
    "L_impulsion = 50.0;\n",
    "L_succion = 10.0;\n",
    "\n",
    "hf_impulsion = f * (L_impulsion/D) * (u1^2)/(2g);\n",
    "hf_succion = f * (L_succion/D) * (u1^2)/(2g);\n",
    "hf_total = hf_impulsion + hf_succion;\n",
    "L_total = L_impulsion + L_succion\n",
    "@show L_impulsion hf_impulsion L_succion hf_succion L_total hf_total;\n"
   ]
  },
  {
   "cell_type": "markdown",
   "id": "2abd33d7",
   "metadata": {},
   "source": [
    "\n",
    "### Paso 5 – Pérdidas localizadas\n",
    "Usamos coeficientes típicos (Crane TP-410), y:\n",
    "\n",
    "$$\n",
    "K_{estr} = \\left(1 - \\frac{A_2}{A_1} \\right)^2\n",
    "$$\n"
   ]
  },
  {
   "cell_type": "code",
   "execution_count": 9,
   "id": "fd1b6cf1",
   "metadata": {},
   "outputs": [
    {
     "name": "stdout",
     "output_type": "stream",
     "text": [
      "K_total = 24.715131865260226\n",
      "h_local = 5.035847857335451\n"
     ]
    }
   ],
   "source": [
    "\n",
    "K_total = 10 + 0.2 + 10 + 1.8 + 2.25 + (1 - A2/A1)^2;\n",
    "h_local = K_total * u1^2 / (2g);\n",
    "@show K_total h_local;\n"
   ]
  },
  {
   "cell_type": "markdown",
   "id": "9fc67d41",
   "metadata": {},
   "source": [
    "\n",
    "### Paso 6 – Presión en el manómetro\n",
    "Usamos Bernoulli entre entrada y salida:\n",
    "\n",
    "$$\n",
    "h = \\Delta z + \\Delta h_f + \\Delta h_{local} + \\frac{u_2^2 - u_1^2}{2g}\n",
    "\\quad\\Rightarrow\\quad\n",
    "P = \\rho g h\n",
    "$$\n"
   ]
  },
  {
   "cell_type": "code",
   "execution_count": 10,
   "id": "58555dad",
   "metadata": {},
   "outputs": [
    {
     "name": "stdout",
     "output_type": "stream",
     "text": [
      "h_manometro = 20.594627337503205\n",
      "P_manometro_Pa = 202033.29418090644\n",
      "P_manometro_bar = 2.0203329418090643\n"
     ]
    }
   ],
   "source": [
    "\n",
    "Δz = 2.0;\n",
    "h_manometro = Δz + hf_total + h_local + (u2^2 - u1^2)/(2g);\n",
    "P_manometro_Pa = ρ * g * h_manometro;\n",
    "P_manometro_bar = P_manometro_Pa / 1e5;\n",
    "@show h_manometro P_manometro_Pa P_manometro_bar;\n"
   ]
  },
  {
   "cell_type": "code",
   "execution_count": null,
   "id": "a741602a-c430-42d3-b527-b270e078d2b1",
   "metadata": {},
   "outputs": [],
   "source": []
  }
 ],
 "metadata": {
  "kernelspec": {
   "display_name": "Julia 1.11.6 1.11.6",
   "language": "julia",
   "name": "julia-1.11.6-1.11"
  },
  "language_info": {
   "file_extension": ".jl",
   "mimetype": "application/julia",
   "name": "julia",
   "version": "1.11.6"
  }
 },
 "nbformat": 4,
 "nbformat_minor": 5
}
